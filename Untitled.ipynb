{
 "cells": [
  {
   "cell_type": "markdown",
   "id": "69929d02-8603-4ad7-9aa3-f3fb1a39d70d",
   "metadata": {},
   "source": [
    "# Module One Notes\n",
    "\n",
    "The following will serve as notes from the CSE 475 – Foundations of Machine Learning course at Arizona State University.\n",
    "\n",
    "## 1.2 [V] Machine Learning Basics Introduction\n",
    "\n",
    "### Learning Objectives:\n",
    "* Describe the relationship between machine learning and AI.\n",
    "* Classify machine learning approaches as classification or regression.\n",
    "* Classify machine learning approaches as feather-based or featureless.\n",
    "* Use common machine learning tools such as Python 3.x, Jupter Labs, and scikit-learn.\n",
    "\n",
    "\n",
    "## 1.3 What is data mining\n",
    "### Introduction to data mining\n",
    "**Data mining** is the process of discovering patterns in large datasets using methods from machine learning and statistics to inform decision-making\n",
    "\n",
    "### 1.3.1: Data mining, machine learning, and statistics:\n",
    "* **Data Mining**: The computational process of discovering patterns in large data sets with the goal of extracting insights\n",
    "  * Data mining uses methods from both machine laerning and statistics.\n",
    "* **Machine Learning**: A branch of computer science that evolved from the study of pattern recognition and computational learning theory in artificial intelligence.\n",
    "   * Machine learning involves the study and construcition of algorithms that can learn from data and make predictions on that data.\n",
    "   * Machine learning is a central part of data mining, along with classical statistics.\n",
    "* **Descriptiove Statistics**: Quantitaive summaries of the main features of a dataset.\n",
    "   * Descriptive statistics is solely converned with properties of the observed data, and does not assume that the data came from a larger propulation (as with inferential statistics).\n",
    "   * Descriptive statistics includes the calculation of measure of center, measures of spread, and some basic visualizations.\n",
    "\n",
    "\n",
    "### Data Mining Process\n",
    "Data mining usually involvesthe following steps, known as the cross-industry standard process for data mining or CRISP-DM:\n",
    "1. **Business Understanding** – The goal of this step is to understand the objective of the data mining task.\n",
    "2. **Data Understanding** – Data is collected from a survey or existing datasets.\n",
    "3. **Data Preparation** – Most of the time, the data collected is not in the correct format or contain missing values. One of the goals of this stpe is to determine whether to transform the data and how to handle the missing values. Another way to transform the data is to take the logarithm of each entry or reduce the number of features–using a process called dimensionality reduction–to make the dataset more manageable for analysis.\n",
    "4. **Modeling** – A modeling technique needs to be chosen. A data miner must determine whether the dataset satisfies the assumption of the chosen models. Other considerations include the range of vlaues for the model parameters and the method of assessment. In many cases and depending on the model, the data might need to be prepared again.\n",
    "5. **Evaluation** – Using an assessment method, the data miner needs to determine whether the objective of the task was met. If the model does not sufficiently address the need objective of the task, the data miner might go back to the beginning of the process if time and budget constraints permit.\n",
    "6. **Deployment** – The goal of this step is to determine how the model can help achieve business objectives such as increasing profit or decreasing the number of defects in the manufacturing process. A data miner needs to create a plan for monitoring and maintaining any ongoing deployment of the model as well as summarize and present the results to the client.\n",
    "\n",
    "\n"
   ]
  },
  {
   "cell_type": "code",
   "execution_count": null,
   "id": "98960a8f-f5a4-4a37-a84e-598df4fc27f6",
   "metadata": {},
   "outputs": [],
   "source": []
  },
  {
   "cell_type": "code",
   "execution_count": null,
   "id": "6d0752d9-d725-4b4e-89f1-8655323eb432",
   "metadata": {},
   "outputs": [],
   "source": []
  }
 ],
 "metadata": {
  "kernelspec": {
   "display_name": "Python 3 (ipykernel)",
   "language": "python",
   "name": "python3"
  },
  "language_info": {
   "codemirror_mode": {
    "name": "ipython",
    "version": 3
   },
   "file_extension": ".py",
   "mimetype": "text/x-python",
   "name": "python",
   "nbconvert_exporter": "python",
   "pygments_lexer": "ipython3",
   "version": "3.11.12"
  }
 },
 "nbformat": 4,
 "nbformat_minor": 5
}
